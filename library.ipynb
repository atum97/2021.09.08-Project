{
 "cells": [
  {
   "cell_type": "markdown",
   "id": "d66bf27a-fbe4-4d47-b5c1-7113b16ec73e",
   "metadata": {},
   "source": [
    "# Basic module"
   ]
  },
  {
   "cell_type": "code",
   "execution_count": 1,
   "id": "be5502c5-cbe5-413d-ac4d-de8cddf6101f",
   "metadata": {},
   "outputs": [],
   "source": [
    "import pandas as pd\n",
    "import os\n",
    "import numpy as np   \n",
    "\n",
    "\n",
    "from statsmodels.stats.outliers_influence import variance_inflation_factor #VIF(다중공선성) 체크 모듈\n",
    "import statsmodels.api as sm\n",
    "from patsy import dmatrices"
   ]
  },
  {
   "cell_type": "markdown",
   "id": "083eb9b1-1113-4797-b3a8-7fab502efc41",
   "metadata": {},
   "source": [
    "# visualization module"
   ]
  },
  {
   "cell_type": "code",
   "execution_count": 2,
   "id": "f804c7ac-731a-40c5-8f52-cdf1daca3953",
   "metadata": {},
   "outputs": [],
   "source": [
    "import seaborn as sns\n",
    "import matplotlib.pyplot as plt\n",
    "%matplotlib inline"
   ]
  },
  {
   "cell_type": "markdown",
   "id": "fa9e981d-6003-470c-b1a2-cb0ecb7d4cd8",
   "metadata": {},
   "source": [
    "# Data split"
   ]
  },
  {
   "cell_type": "code",
   "execution_count": 3,
   "id": "ee44d088-b982-4f03-84b3-c276f12431b9",
   "metadata": {},
   "outputs": [],
   "source": [
    "from sklearn.model_selection import train_test_split"
   ]
  },
  {
   "cell_type": "markdown",
   "id": "e3bbfd2b-c947-474e-8154-d44611250dab",
   "metadata": {},
   "source": [
    "# Machine learning."
   ]
  },
  {
   "cell_type": "code",
   "execution_count": 4,
   "id": "9afcbee9-84f7-4aa7-b906-20a0a5a4aa17",
   "metadata": {},
   "outputs": [],
   "source": [
    "from sklearn.linear_model import LogisticRegression\n",
    "from sklearn.svm import SVC, LinearSVC\n",
    "from sklearn.ensemble import RandomForestClassifier\n",
    "from sklearn.neighbors import KNeighborsClassifier"
   ]
  }
 ],
 "metadata": {
  "kernelspec": {
   "display_name": "Python 3",
   "language": "python",
   "name": "python3"
  },
  "language_info": {
   "codemirror_mode": {
    "name": "ipython",
    "version": 3
   },
   "file_extension": ".py",
   "mimetype": "text/x-python",
   "name": "python",
   "nbconvert_exporter": "python",
   "pygments_lexer": "ipython3",
   "version": "3.8.8"
  }
 },
 "nbformat": 4,
 "nbformat_minor": 5
}
